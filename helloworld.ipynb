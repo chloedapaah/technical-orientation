{
 "cells": [
  {
   "cell_type": "markdown",
   "id": "73f918fc",
   "metadata": {},
   "source": [
    "# Create a Hello World Cell\n",
    "Write a Python code cell that prints \"Hello, World!\" using the print function."
   ]
  },
  {
   "cell_type": "code",
   "execution_count": 1,
   "id": "bb961811",
   "metadata": {},
   "outputs": [
    {
     "name": "stdout",
     "output_type": "stream",
     "text": [
      "Hello, World!\n"
     ]
    }
   ],
   "source": [
    "print(\"Hello, World!\")"
   ]
  },
  {
   "cell_type": "markdown",
   "id": "02f11d09",
   "metadata": {},
   "source": [
    "# Execute the Hello World Cell\n",
    "Run the previous code cell to display the output \"Hello, World!\" in the notebook."
   ]
  }
 ],
 "metadata": {
  "kernelspec": {
   "display_name": "Python 3",
   "language": "python",
   "name": "python3"
  },
  "language_info": {
   "codemirror_mode": {
    "name": "ipython",
    "version": 3
   },
   "file_extension": ".py",
   "mimetype": "text/x-python",
   "name": "python",
   "nbconvert_exporter": "python",
   "pygments_lexer": "ipython3",
   "version": "3.10.1"
  }
 },
 "nbformat": 4,
 "nbformat_minor": 5
}
